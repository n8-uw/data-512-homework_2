{
 "cells": [
  {
   "cell_type": "markdown",
   "metadata": {},
   "source": [
    "# Considering Bias in Data\n",
    "This notebook will explore the bias in Wikipedias page rating system. Using article data of various political leaders from all around the world, we query the [ORES system](https://ores.wikimedia.org/) in order to obtain rating estimates. \n",
    "\n",
    "## License\n",
    "This code example was developed by Nathan Grant for use in DATA 512, a course in the UW MS Data Science degree program. This code is provided un\n",
    "der the [Creative Commons](https://creativecommons.org) [CC-BY license](https://creativecommons.org/licenses/by/4.0/). Revision 1.0 - May 13, 2022\n",
    "\n",
    "## Imports"
   ]
  },
  {
   "cell_type": "code",
   "execution_count": 1,
   "metadata": {
    "ExecuteTime": {
     "end_time": "2022-10-11T08:08:37.905044Z",
     "start_time": "2022-10-11T08:08:36.828933Z"
    }
   },
   "outputs": [],
   "source": [
    "# \n",
    "# These are standard python modules\n",
    "import json, time, urllib.parse, os\n",
    "#\n",
    "# The 'requests' module is not a standard Python module. You will need to install this with pip/pip3 if you do not already have it\n",
    "import requests\n",
    "# The 'pandas' module is not a standard Python module. You will need to install this with pip/pip3 if you do not already have it\n",
    "import pandas as pd"
   ]
  },
  {
   "cell_type": "markdown",
   "metadata": {},
   "source": [
    "## Tabular Data Parsing"
   ]
  },
  {
   "cell_type": "code",
   "execution_count": 2,
   "metadata": {
    "ExecuteTime": {
     "end_time": "2022-10-11T08:08:38.643020Z",
     "start_time": "2022-10-11T08:08:38.600003Z"
    }
   },
   "outputs": [
    {
     "data": {
      "text/html": [
       "<div>\n",
       "<style scoped>\n",
       "    .dataframe tbody tr th:only-of-type {\n",
       "        vertical-align: middle;\n",
       "    }\n",
       "\n",
       "    .dataframe tbody tr th {\n",
       "        vertical-align: top;\n",
       "    }\n",
       "\n",
       "    .dataframe thead th {\n",
       "        text-align: right;\n",
       "    }\n",
       "</style>\n",
       "<table border=\"1\" class=\"dataframe\">\n",
       "  <thead>\n",
       "    <tr style=\"text-align: right;\">\n",
       "      <th></th>\n",
       "      <th>name</th>\n",
       "      <th>url</th>\n",
       "      <th>country</th>\n",
       "    </tr>\n",
       "  </thead>\n",
       "  <tbody>\n",
       "    <tr>\n",
       "      <td>0</td>\n",
       "      <td>Shahjahan Noori</td>\n",
       "      <td>https://en.wikipedia.org/wiki/Shahjahan_Noori</td>\n",
       "      <td>Afghanistan</td>\n",
       "    </tr>\n",
       "    <tr>\n",
       "      <td>1</td>\n",
       "      <td>Abdul Ghafar Lakanwal</td>\n",
       "      <td>https://en.wikipedia.org/wiki/Abdul_Ghafar_Lak...</td>\n",
       "      <td>Afghanistan</td>\n",
       "    </tr>\n",
       "    <tr>\n",
       "      <td>2</td>\n",
       "      <td>Majah Ha Adrif</td>\n",
       "      <td>https://en.wikipedia.org/wiki/Majah_Ha_Adrif</td>\n",
       "      <td>Afghanistan</td>\n",
       "    </tr>\n",
       "    <tr>\n",
       "      <td>3</td>\n",
       "      <td>Haroon al-Afghani</td>\n",
       "      <td>https://en.wikipedia.org/wiki/Haroon_al-Afghani</td>\n",
       "      <td>Afghanistan</td>\n",
       "    </tr>\n",
       "    <tr>\n",
       "      <td>4</td>\n",
       "      <td>Tayyab Agha</td>\n",
       "      <td>https://en.wikipedia.org/wiki/Tayyab_Agha</td>\n",
       "      <td>Afghanistan</td>\n",
       "    </tr>\n",
       "  </tbody>\n",
       "</table>\n",
       "</div>"
      ],
      "text/plain": [
       "                    name                                                url  \\\n",
       "0        Shahjahan Noori      https://en.wikipedia.org/wiki/Shahjahan_Noori   \n",
       "1  Abdul Ghafar Lakanwal  https://en.wikipedia.org/wiki/Abdul_Ghafar_Lak...   \n",
       "2         Majah Ha Adrif       https://en.wikipedia.org/wiki/Majah_Ha_Adrif   \n",
       "3      Haroon al-Afghani    https://en.wikipedia.org/wiki/Haroon_al-Afghani   \n",
       "4            Tayyab Agha          https://en.wikipedia.org/wiki/Tayyab_Agha   \n",
       "\n",
       "       country  \n",
       "0  Afghanistan  \n",
       "1  Afghanistan  \n",
       "2  Afghanistan  \n",
       "3  Afghanistan  \n",
       "4  Afghanistan  "
      ]
     },
     "execution_count": 2,
     "metadata": {},
     "output_type": "execute_result"
    }
   ],
   "source": [
    "# Handle data inconsistencies in wikipedia data\n",
    "politicians_dataframe = pd.read_csv(os.getcwd()+ '\\\\data\\\\politicians_by_country_SEPT2022.csv')\n",
    "politicians_dataframe.head()"
   ]
  },
  {
   "cell_type": "code",
   "execution_count": 3,
   "metadata": {
    "ExecuteTime": {
     "end_time": "2022-10-11T08:08:39.583186Z",
     "start_time": "2022-10-11T08:08:39.564187Z"
    }
   },
   "outputs": [
    {
     "data": {
      "text/plain": [
       "Torokul Dzhanuzakov           4\n",
       "Lazar Tomanović               2\n",
       "Abdirahman Aw Ali Farrah      2\n",
       "Juraj Košút                   2\n",
       "José Francisco Barrundia      2\n",
       "                             ..\n",
       "Verner Lindberg               1\n",
       "Murilo Melo Filho             1\n",
       "José Antonio Velutini         1\n",
       "Voldemārs Ozols               1\n",
       "Maslah Mohammed Siad Barre    1\n",
       "Name: name, Length: 7534, dtype: int64"
      ]
     },
     "execution_count": 3,
     "metadata": {},
     "output_type": "execute_result"
    }
   ],
   "source": [
    "# Check for duplicate records\n",
    "politicians_dataframe['name'].value_counts()"
   ]
  },
  {
   "cell_type": "code",
   "execution_count": 4,
   "metadata": {
    "ExecuteTime": {
     "end_time": "2022-10-11T08:08:39.993431Z",
     "start_time": "2022-10-11T08:08:39.972411Z"
    }
   },
   "outputs": [],
   "source": [
    "politicians_dataframe = politicians_dataframe.drop_duplicates(subset='name')"
   ]
  },
  {
   "cell_type": "code",
   "execution_count": 5,
   "metadata": {
    "ExecuteTime": {
     "end_time": "2022-10-11T08:08:40.512145Z",
     "start_time": "2022-10-11T08:08:40.496164Z"
    }
   },
   "outputs": [
    {
     "data": {
      "text/html": [
       "<div>\n",
       "<style scoped>\n",
       "    .dataframe tbody tr th:only-of-type {\n",
       "        vertical-align: middle;\n",
       "    }\n",
       "\n",
       "    .dataframe tbody tr th {\n",
       "        vertical-align: top;\n",
       "    }\n",
       "\n",
       "    .dataframe thead th {\n",
       "        text-align: right;\n",
       "    }\n",
       "</style>\n",
       "<table border=\"1\" class=\"dataframe\">\n",
       "  <thead>\n",
       "    <tr style=\"text-align: right;\">\n",
       "      <th></th>\n",
       "      <th>Geography</th>\n",
       "      <th>Population (millions)</th>\n",
       "    </tr>\n",
       "  </thead>\n",
       "  <tbody>\n",
       "    <tr>\n",
       "      <td>0</td>\n",
       "      <td>WORLD</td>\n",
       "      <td>7963.0</td>\n",
       "    </tr>\n",
       "    <tr>\n",
       "      <td>1</td>\n",
       "      <td>AFRICA</td>\n",
       "      <td>1419.0</td>\n",
       "    </tr>\n",
       "    <tr>\n",
       "      <td>2</td>\n",
       "      <td>NORTHERN AFRICA</td>\n",
       "      <td>251.0</td>\n",
       "    </tr>\n",
       "    <tr>\n",
       "      <td>3</td>\n",
       "      <td>Algeria</td>\n",
       "      <td>44.9</td>\n",
       "    </tr>\n",
       "    <tr>\n",
       "      <td>4</td>\n",
       "      <td>Egypt</td>\n",
       "      <td>103.5</td>\n",
       "    </tr>\n",
       "  </tbody>\n",
       "</table>\n",
       "</div>"
      ],
      "text/plain": [
       "         Geography  Population (millions)\n",
       "0            WORLD                 7963.0\n",
       "1           AFRICA                 1419.0\n",
       "2  NORTHERN AFRICA                  251.0\n",
       "3          Algeria                   44.9\n",
       "4            Egypt                  103.5"
      ]
     },
     "execution_count": 5,
     "metadata": {},
     "output_type": "execute_result"
    }
   ],
   "source": [
    "population_dataframe = pd.read_csv(os.getcwd()+ '\\\\data\\\\population_by_country_2022.csv')\n",
    "population_dataframe.head()"
   ]
  },
  {
   "cell_type": "code",
   "execution_count": 6,
   "metadata": {
    "ExecuteTime": {
     "end_time": "2022-10-11T08:08:40.968178Z",
     "start_time": "2022-10-11T08:08:40.947161Z"
    }
   },
   "outputs": [],
   "source": [
    "# Get rows that are regions instead of countries\n",
    "region_mask = population_dataframe['Geography'].str.isupper()\n",
    "regions = population_dataframe[region_mask]\n",
    "\n",
    "# Isolate countries\n",
    "countries = population_dataframe[~region_mask]"
   ]
  },
  {
   "cell_type": "markdown",
   "metadata": {},
   "source": [
    "## Obtaining revision ids"
   ]
  },
  {
   "cell_type": "code",
   "execution_count": 7,
   "metadata": {
    "ExecuteTime": {
     "end_time": "2022-10-11T08:08:42.040211Z",
     "start_time": "2022-10-11T08:08:42.020192Z"
    }
   },
   "outputs": [],
   "source": [
    "#########\n",
    "#\n",
    "#    CONSTANTS\n",
    "#\n",
    "\n",
    "# The basic English Wikipedia API endpoint\n",
    "API_ENWIKIPEDIA_ENDPOINT = \"https://en.wikipedia.org/w/api.php\"\n",
    "\n",
    "# We'll assume that there needs to be some throttling for these requests - we should always be nice to a free data resource\n",
    "API_LATENCY_ASSUMED = 0.002       # Assuming roughly 2ms latency on the API and network\n",
    "API_THROTTLE_WAIT = (1.0/100.0)-API_LATENCY_ASSUMED\n",
    "\n",
    "# When making automated requests we should include something that is unique to the person making the request\n",
    "# This should include an email - your UW email would be good to put in there\n",
    "REQUEST_HEADERS = {\n",
    "    'User-Agent': '<uwnetid@uw.edu>, University of Washington, MSDS DATA 512 - AUTUMN 2022',\n",
    "}\n",
    "\n",
    "# This is a string of additional page properties that can be returned see the Info documentation for\n",
    "# what can be included. If you don't want any this can simply be the empty string\n",
    "PAGEINFO_EXTENDED_PROPERTIES = \"talkid|url|watched|watchers\"\n",
    "#PAGEINFO_EXTENDED_PROPERTIES = \"\"\n",
    "\n",
    "# This template lists the basic parameters for making this\n",
    "PAGEINFO_PARAMS_TEMPLATE = {\n",
    "    \"action\": \"query\",\n",
    "    \"format\": \"json\",\n",
    "    \"titles\": \"\",           # to simplify this should be a single page title at a time\n",
    "    \"prop\": \"info\",\n",
    "    \"inprop\": PAGEINFO_EXTENDED_PROPERTIES\n",
    "}\n"
   ]
  },
  {
   "cell_type": "markdown",
   "metadata": {},
   "source": [
    "The API request will be made using one procedure. The idea is to make this reusable. The procedure is parameterized, but relies on the constants above for the important parameters. The underlying assumption is that this will be used to request data for a set of article pages. Therefore the parameter most likely to change is the article_title."
   ]
  },
  {
   "cell_type": "code",
   "execution_count": 8,
   "metadata": {
    "ExecuteTime": {
     "end_time": "2022-10-11T08:08:43.852395Z",
     "start_time": "2022-10-11T08:08:43.835396Z"
    },
    "code_folding": [
     0
    ]
   },
   "outputs": [],
   "source": [
    "#########\n",
    "#\n",
    "#    PROCEDURES/FUNCTIONS\n",
    "#\n",
    "\n",
    "def request_pageinfo_per_article(article_title = None, \n",
    "                                 endpoint_url = API_ENWIKIPEDIA_ENDPOINT, \n",
    "                                 request_template = PAGEINFO_PARAMS_TEMPLATE,\n",
    "                                 headers = REQUEST_HEADERS):\n",
    "    # Make sure we have an article title\n",
    "    if not article_title: return None\n",
    "    \n",
    "    request_template['titles'] = article_title\n",
    "        \n",
    "    # make the request\n",
    "    try:\n",
    "        # we'll wait first, to make sure we don't exceed the limit in the situation where an exception\n",
    "        # occurs during the request processing - throttling is always a good practice with a free\n",
    "        # data source like Wikipedia - or any other community sources\n",
    "        if API_THROTTLE_WAIT > 0.0:\n",
    "            time.sleep(API_THROTTLE_WAIT)\n",
    "        response = requests.get(endpoint_url, headers=headers, params=request_template)\n",
    "        json_response = response.json()\n",
    "    except Exception as e:\n",
    "        print(e)\n",
    "        json_response = None\n",
    "    return json_response"
   ]
  },
  {
   "cell_type": "code",
   "execution_count": 9,
   "metadata": {
    "ExecuteTime": {
     "end_time": "2022-10-11T08:39:55.444634Z",
     "start_time": "2022-10-11T08:08:53.975613Z"
    }
   },
   "outputs": [],
   "source": [
    "# Gather wiki responses for each politician and add them to a list\n",
    "responses = []\n",
    "for name in politicians_dataframe['name']:\n",
    "    responses.append(request_pageinfo_per_article(name))"
   ]
  },
  {
   "cell_type": "code",
   "execution_count": 10,
   "metadata": {
    "ExecuteTime": {
     "end_time": "2022-10-11T08:39:55.507963Z",
     "start_time": "2022-10-11T08:39:55.448641Z"
    }
   },
   "outputs": [],
   "source": [
    "# Filter responses and display unscessful queries\n",
    "unsuccessful_queries = []\n",
    "successful_queries = []\n",
    "for r in responses:\n",
    "    if \"lastrevid\" not in r['query']['pages'][list(r['query']['pages'].keys())[0]]:\n",
    "        unsuccessful_queries.append(r['query']['pages'][list(r['query']['pages'].keys())[0]]['title'])\n",
    "    else:\n",
    "        data = r['query']['pages'][list(r['query']['pages'].keys())[0]]\n",
    "        successful_queries.append((data['title'],data['lastrevid']))"
   ]
  },
  {
   "cell_type": "code",
   "execution_count": 11,
   "metadata": {
    "ExecuteTime": {
     "end_time": "2022-10-11T08:39:55.523998Z",
     "start_time": "2022-10-11T08:39:55.511980Z"
    }
   },
   "outputs": [
    {
     "data": {
      "text/plain": [
       "['Prince Ofosu Sefah',\n",
       " 'Harjit Kaur Talwandi',\n",
       " 'Abd al-Razzaq al-Hasani',\n",
       " 'Kang Sun-nam',\n",
       " 'Abiodun Abimbola Orekoya',\n",
       " 'Segun “Aeroland” Adewale',\n",
       " 'Roman Konoplev',\n",
       " 'Nhlanhla “Lux” Dlamini']"
      ]
     },
     "execution_count": 11,
     "metadata": {},
     "output_type": "execute_result"
    }
   ],
   "source": [
    "unsuccessful_queries"
   ]
  },
  {
   "cell_type": "markdown",
   "metadata": {},
   "source": [
    "## Obtaining page ratings"
   ]
  },
  {
   "cell_type": "markdown",
   "metadata": {},
   "source": [
    "We are going to use the wp10 model because its the only model that had a wiki outlining its [performance](https://meta.wikimedia.org/wiki/Objective_Revision_Evaluation_Service/wp10) on the test data"
   ]
  },
  {
   "cell_type": "code",
   "execution_count": 12,
   "metadata": {
    "ExecuteTime": {
     "end_time": "2022-10-11T08:39:55.539967Z",
     "start_time": "2022-10-11T08:39:55.527996Z"
    },
    "code_folding": []
   },
   "outputs": [],
   "source": [
    "#########\n",
    "#\n",
    "#    CONSTANTS\n",
    "#\n",
    "\n",
    "# The current ORES API endpoint\n",
    "API_ORES_SCORE_ENDPOINT = \"https://ores.wikimedia.org/v3\"\n",
    "# A template for mapping to the URL\n",
    "API_ORES_SCORE_PARAMS = \"/scores/{context}/{revid}/{model}\"\n",
    "\n",
    "# Use some delays so that we do not hammer the API with our requests\n",
    "API_LATENCY_ASSUMED = 0.002       # Assuming roughly 2ms latency on the API and network\n",
    "API_THROTTLE_WAIT = (1.0/100.0)-API_LATENCY_ASSUMED\n",
    "\n",
    "# When making automated requests we should include something that is unique to the person making the request\n",
    "# This should include an email - your UW email would be good to put in there\n",
    "REQUEST_HEADERS = {\n",
    "    'User-Agent': '<uwnetid@uw.edu>, University of Washington, MSDS DATA 512 - AUTUMN 2022'\n",
    "}\n",
    "\n",
    "# A dictionary of English Wikipedia article titles (keys) and sample revision IDs that can be used for this ORES scoring example\n",
    "ARTICLE_REVISIONS = { 'Bison':1085687913 , 'Northern flicker':1086582504 , 'Red squirrel':1083787665 , 'Chinook salmon':1085406228 , 'Horseshoe bat':1060601936 }\n",
    "\n",
    "# This template lists the basic parameters for making an ORES request\n",
    "ORES_PARAMS_TEMPLATE = {\n",
    "    \"context\": \"enwiki\",        # which WMF project for the specified revid\n",
    "    \"revid\" : \"\",               # the revision to be scored - this will probably change each call\n",
    "    \"model\": \"wp10\"   # the AI/ML scoring model to apply to the reviewion\n",
    "}\n",
    "#\n",
    "# The current ML models for English wikipedia are:\n",
    "#   \"articlequality\"\n",
    "#   \"articletopic\"\n",
    "#   \"damaging\"\n",
    "#   \"version\"\n",
    "#   \"draftquality\"\n",
    "#   \"drafttopic\"\n",
    "#   \"goodfaith\"\n",
    "#   \"wp10\"\n",
    "#\n",
    "# The specific documentation on these is scattered so if you want to use one you'll have to look around.\n",
    "#"
   ]
  },
  {
   "cell_type": "code",
   "execution_count": 13,
   "metadata": {
    "ExecuteTime": {
     "end_time": "2022-10-11T08:39:55.555966Z",
     "start_time": "2022-10-11T08:39:55.542996Z"
    },
    "code_folding": []
   },
   "outputs": [],
   "source": [
    "#########\n",
    "#\n",
    "#    PROCEDURES/FUNCTIONS\n",
    "#\n",
    "\n",
    "def request_ores_score_per_article(article_revid = None, \n",
    "                                   endpoint_url = API_ORES_SCORE_ENDPOINT, \n",
    "                                   endpoint_params = API_ORES_SCORE_PARAMS, \n",
    "                                   request_template = ORES_PARAMS_TEMPLATE,\n",
    "                                   headers = REQUEST_HEADERS,\n",
    "                                   features=False):\n",
    "    # Make sure we have an article revision id\n",
    "    if not article_revid: return None\n",
    "    \n",
    "    # set the revision id into the template\n",
    "    request_template['revid'] = article_revid\n",
    "    \n",
    "    # now, create a request URL by combining the endpoint_url with the parameters for the request\n",
    "    request_url = endpoint_url+endpoint_params.format(**request_template)\n",
    "    \n",
    "    # the features used by the ML model can sometimes be returned as well as scores\n",
    "    if features:\n",
    "        request_url = request_url+\"?features=true\"\n",
    "    \n",
    "    # make the request\n",
    "    try:\n",
    "        # we'll wait first, to make sure we don't exceed the limit in the situation where an exception\n",
    "        # occurs during the request processing - throttling is always a good practice with a free\n",
    "        # data source like ORES - or other community sources\n",
    "        if API_THROTTLE_WAIT > 0.0:\n",
    "            time.sleep(API_THROTTLE_WAIT)\n",
    "        response = requests.get(request_url, headers=headers)\n",
    "        json_response = response.json()\n",
    "    except Exception as e:\n",
    "        print(e)\n",
    "        json_response = None\n",
    "    return json_response"
   ]
  },
  {
   "cell_type": "code",
   "execution_count": 14,
   "metadata": {
    "ExecuteTime": {
     "end_time": "2022-10-11T09:35:54.798104Z",
     "start_time": "2022-10-11T08:39:55.557966Z"
    }
   },
   "outputs": [],
   "source": [
    "# Iterate through all of the revids and get the article scores\n",
    "score_responses = []\n",
    "for name, revid in successful_queries:\n",
    "    response = request_ores_score_per_article(revid)\n",
    "    score_responses.append((name, response))"
   ]
  },
  {
   "cell_type": "code",
   "execution_count": 15,
   "metadata": {},
   "outputs": [
    {
     "data": {
      "text/plain": [
       "('Shahjahan Noori',\n",
       " {'enwiki': {'models': {'wp10': {'version': '0.9.2'}},\n",
       "   'scores': {'1099689043': {'wp10': {'score': {'prediction': 'GA',\n",
       "       'probability': {'B': 0.15912710013204634,\n",
       "        'C': 0.3317754589473183,\n",
       "        'FA': 0.029544640342677096,\n",
       "        'GA': 0.43829652594886387,\n",
       "        'Start': 0.034888134844429625,\n",
       "        'Stub': 0.006368139784664634}}}}}}})"
      ]
     },
     "execution_count": 15,
     "metadata": {},
     "output_type": "execute_result"
    }
   ],
   "source": [
    "# Example score response\n",
    "score_responses[0]"
   ]
  },
  {
   "cell_type": "code",
   "execution_count": 16,
   "metadata": {
    "ExecuteTime": {
     "end_time": "2022-10-11T09:35:54.814101Z",
     "start_time": "2022-10-11T09:35:54.802076Z"
    }
   },
   "outputs": [],
   "source": [
    "# Parse score responses"
   ]
  },
  {
   "cell_type": "code",
   "execution_count": 18,
   "metadata": {
    "ExecuteTime": {
     "end_time": "2022-10-11T09:35:54.956072Z",
     "start_time": "2022-10-11T09:35:54.820102Z"
    }
   },
   "outputs": [],
   "source": [
    "# Filter through the responses to determine which ones were valid\n",
    "unsuccessful_score_queries = []\n",
    "successful_score_queries = []\n",
    "for name, res in score_responses:\n",
    "    revid = list(res['enwiki']['scores'].keys())[0]\n",
    "    # If the wp10 element is in the response dictionary\n",
    "    if 'wp10' in res['enwiki']['scores'][revid]:\n",
    "        score = res['enwiki']['scores'][revid]['wp10']['score']\n",
    "        # If prediction isnt in the json\n",
    "        if 'prediction' not in score:\n",
    "            # Add it to unsuccessful queries\n",
    "            unsuccessful_score_queries.append(name)\n",
    "        else:\n",
    "            #  Else add it to successful queries\n",
    "            if score['prediction'] is not \"NaN\":\n",
    "                successful_score_queries.append((name,revid,score['prediction']))\n",
    "            else:\n",
    "                unsuccessful_score_queries.append(name)\n",
    "    else:\n",
    "        unsuccessful_score_queries.append(name)"
   ]
  },
  {
   "cell_type": "code",
   "execution_count": 19,
   "metadata": {
    "ExecuteTime": {
     "end_time": "2022-10-11T09:35:54.959098Z",
     "start_time": "2022-10-11T08:09:03.232Z"
    }
   },
   "outputs": [
    {
     "data": {
      "text/plain": [
       "0"
      ]
     },
     "execution_count": 19,
     "metadata": {},
     "output_type": "execute_result"
    }
   ],
   "source": [
    "# No unsuccessful queries\n",
    "len(unsuccessful_score_queries)"
   ]
  },
  {
   "cell_type": "code",
   "execution_count": 20,
   "metadata": {
    "ExecuteTime": {
     "end_time": "2022-10-11T09:35:54.960073Z",
     "start_time": "2022-10-11T08:09:04.120Z"
    }
   },
   "outputs": [
    {
     "data": {
      "text/html": [
       "<div>\n",
       "<style scoped>\n",
       "    .dataframe tbody tr th:only-of-type {\n",
       "        vertical-align: middle;\n",
       "    }\n",
       "\n",
       "    .dataframe tbody tr th {\n",
       "        vertical-align: top;\n",
       "    }\n",
       "\n",
       "    .dataframe thead th {\n",
       "        text-align: right;\n",
       "    }\n",
       "</style>\n",
       "<table border=\"1\" class=\"dataframe\">\n",
       "  <thead>\n",
       "    <tr style=\"text-align: right;\">\n",
       "      <th></th>\n",
       "      <th>name</th>\n",
       "      <th>revid</th>\n",
       "      <th>score</th>\n",
       "    </tr>\n",
       "  </thead>\n",
       "  <tbody>\n",
       "    <tr>\n",
       "      <td>0</td>\n",
       "      <td>Shahjahan Noori</td>\n",
       "      <td>1099689043</td>\n",
       "      <td>GA</td>\n",
       "    </tr>\n",
       "    <tr>\n",
       "      <td>1</td>\n",
       "      <td>Abdul Ghafar Lakanwal</td>\n",
       "      <td>943562276</td>\n",
       "      <td>Start</td>\n",
       "    </tr>\n",
       "    <tr>\n",
       "      <td>2</td>\n",
       "      <td>Majah Ha Adrif</td>\n",
       "      <td>852404094</td>\n",
       "      <td>Start</td>\n",
       "    </tr>\n",
       "    <tr>\n",
       "      <td>3</td>\n",
       "      <td>Haroon al-Afghani</td>\n",
       "      <td>1095102390</td>\n",
       "      <td>B</td>\n",
       "    </tr>\n",
       "    <tr>\n",
       "      <td>4</td>\n",
       "      <td>Tayyab Agha</td>\n",
       "      <td>1104998382</td>\n",
       "      <td>Start</td>\n",
       "    </tr>\n",
       "  </tbody>\n",
       "</table>\n",
       "</div>"
      ],
      "text/plain": [
       "                    name       revid  score\n",
       "0        Shahjahan Noori  1099689043     GA\n",
       "1  Abdul Ghafar Lakanwal   943562276  Start\n",
       "2         Majah Ha Adrif   852404094  Start\n",
       "3      Haroon al-Afghani  1095102390      B\n",
       "4            Tayyab Agha  1104998382  Start"
      ]
     },
     "execution_count": 20,
     "metadata": {},
     "output_type": "execute_result"
    }
   ],
   "source": [
    "# Create a dataframe of the successful queries with their scores\n",
    "score_df = pd.DataFrame(data=successful_score_queries,columns=['name','revid','score'])\n",
    "score_df.head()"
   ]
  },
  {
   "cell_type": "code",
   "execution_count": 21,
   "metadata": {
    "ExecuteTime": {
     "end_time": "2022-10-11T09:35:54.962073Z",
     "start_time": "2022-10-11T08:09:05.011Z"
    }
   },
   "outputs": [
    {
     "data": {
      "text/html": [
       "<div>\n",
       "<style scoped>\n",
       "    .dataframe tbody tr th:only-of-type {\n",
       "        vertical-align: middle;\n",
       "    }\n",
       "\n",
       "    .dataframe tbody tr th {\n",
       "        vertical-align: top;\n",
       "    }\n",
       "\n",
       "    .dataframe thead th {\n",
       "        text-align: right;\n",
       "    }\n",
       "</style>\n",
       "<table border=\"1\" class=\"dataframe\">\n",
       "  <thead>\n",
       "    <tr style=\"text-align: right;\">\n",
       "      <th></th>\n",
       "      <th>name</th>\n",
       "      <th>url</th>\n",
       "      <th>country</th>\n",
       "    </tr>\n",
       "  </thead>\n",
       "  <tbody>\n",
       "    <tr>\n",
       "      <td>0</td>\n",
       "      <td>Shahjahan Noori</td>\n",
       "      <td>https://en.wikipedia.org/wiki/Shahjahan_Noori</td>\n",
       "      <td>Afghanistan</td>\n",
       "    </tr>\n",
       "    <tr>\n",
       "      <td>1</td>\n",
       "      <td>Abdul Ghafar Lakanwal</td>\n",
       "      <td>https://en.wikipedia.org/wiki/Abdul_Ghafar_Lak...</td>\n",
       "      <td>Afghanistan</td>\n",
       "    </tr>\n",
       "  </tbody>\n",
       "</table>\n",
       "</div>"
      ],
      "text/plain": [
       "                    name                                                url  \\\n",
       "0        Shahjahan Noori      https://en.wikipedia.org/wiki/Shahjahan_Noori   \n",
       "1  Abdul Ghafar Lakanwal  https://en.wikipedia.org/wiki/Abdul_Ghafar_Lak...   \n",
       "\n",
       "       country  \n",
       "0  Afghanistan  \n",
       "1  Afghanistan  "
      ]
     },
     "execution_count": 21,
     "metadata": {},
     "output_type": "execute_result"
    }
   ],
   "source": [
    "# Remove politicians whos records could not be resolved\n",
    "politicians_dataframe = politicians_dataframe[~politicians_dataframe[\"name\"].isin(unsuccessful_queries)]\n",
    "politicians_dataframe.head(2)"
   ]
  },
  {
   "cell_type": "code",
   "execution_count": 22,
   "metadata": {
    "ExecuteTime": {
     "end_time": "2022-10-11T09:35:54.963072Z",
     "start_time": "2022-10-11T08:09:05.387Z"
    }
   },
   "outputs": [
    {
     "data": {
      "text/html": [
       "<div>\n",
       "<style scoped>\n",
       "    .dataframe tbody tr th:only-of-type {\n",
       "        vertical-align: middle;\n",
       "    }\n",
       "\n",
       "    .dataframe tbody tr th {\n",
       "        vertical-align: top;\n",
       "    }\n",
       "\n",
       "    .dataframe thead th {\n",
       "        text-align: right;\n",
       "    }\n",
       "</style>\n",
       "<table border=\"1\" class=\"dataframe\">\n",
       "  <thead>\n",
       "    <tr style=\"text-align: right;\">\n",
       "      <th></th>\n",
       "      <th>name</th>\n",
       "      <th>revid</th>\n",
       "      <th>score</th>\n",
       "      <th>url</th>\n",
       "      <th>country</th>\n",
       "    </tr>\n",
       "  </thead>\n",
       "  <tbody>\n",
       "    <tr>\n",
       "      <td>0</td>\n",
       "      <td>Shahjahan Noori</td>\n",
       "      <td>1099689043</td>\n",
       "      <td>GA</td>\n",
       "      <td>https://en.wikipedia.org/wiki/Shahjahan_Noori</td>\n",
       "      <td>Afghanistan</td>\n",
       "    </tr>\n",
       "    <tr>\n",
       "      <td>1</td>\n",
       "      <td>Abdul Ghafar Lakanwal</td>\n",
       "      <td>943562276</td>\n",
       "      <td>Start</td>\n",
       "      <td>https://en.wikipedia.org/wiki/Abdul_Ghafar_Lak...</td>\n",
       "      <td>Afghanistan</td>\n",
       "    </tr>\n",
       "    <tr>\n",
       "      <td>2</td>\n",
       "      <td>Majah Ha Adrif</td>\n",
       "      <td>852404094</td>\n",
       "      <td>Start</td>\n",
       "      <td>https://en.wikipedia.org/wiki/Majah_Ha_Adrif</td>\n",
       "      <td>Afghanistan</td>\n",
       "    </tr>\n",
       "    <tr>\n",
       "      <td>3</td>\n",
       "      <td>Haroon al-Afghani</td>\n",
       "      <td>1095102390</td>\n",
       "      <td>B</td>\n",
       "      <td>https://en.wikipedia.org/wiki/Haroon_al-Afghani</td>\n",
       "      <td>Afghanistan</td>\n",
       "    </tr>\n",
       "    <tr>\n",
       "      <td>4</td>\n",
       "      <td>Tayyab Agha</td>\n",
       "      <td>1104998382</td>\n",
       "      <td>Start</td>\n",
       "      <td>https://en.wikipedia.org/wiki/Tayyab_Agha</td>\n",
       "      <td>Afghanistan</td>\n",
       "    </tr>\n",
       "  </tbody>\n",
       "</table>\n",
       "</div>"
      ],
      "text/plain": [
       "                    name       revid  score  \\\n",
       "0        Shahjahan Noori  1099689043     GA   \n",
       "1  Abdul Ghafar Lakanwal   943562276  Start   \n",
       "2         Majah Ha Adrif   852404094  Start   \n",
       "3      Haroon al-Afghani  1095102390      B   \n",
       "4            Tayyab Agha  1104998382  Start   \n",
       "\n",
       "                                                 url      country  \n",
       "0      https://en.wikipedia.org/wiki/Shahjahan_Noori  Afghanistan  \n",
       "1  https://en.wikipedia.org/wiki/Abdul_Ghafar_Lak...  Afghanistan  \n",
       "2       https://en.wikipedia.org/wiki/Majah_Ha_Adrif  Afghanistan  \n",
       "3    https://en.wikipedia.org/wiki/Haroon_al-Afghani  Afghanistan  \n",
       "4          https://en.wikipedia.org/wiki/Tayyab_Agha  Afghanistan  "
      ]
     },
     "execution_count": 22,
     "metadata": {},
     "output_type": "execute_result"
    }
   ],
   "source": [
    "# Combine the politician table with the articles scores\n",
    "merged_df = pd.merge(score_df,politicians_dataframe, how='inner', on='name')\n",
    "merged_df.head()"
   ]
  },
  {
   "cell_type": "code",
   "execution_count": 23,
   "metadata": {},
   "outputs": [],
   "source": [
    "## scheme to generate regions from the countries\n",
    "geography_map = []\n",
    "levels = []\n",
    "\n",
    "# Filter through countries regions\n",
    "for g,pop in population_dataframe.values:\n",
    "    # If its upper case then add it to the stack of region names\n",
    "    if g.isupper():\n",
    "        levels.append(g)\n",
    "    # If its not then get the last region on the stack and add it to the list\n",
    "    else:\n",
    "        geography_map.append([g,levels[-1],pop])"
   ]
  },
  {
   "cell_type": "code",
   "execution_count": 24,
   "metadata": {},
   "outputs": [
    {
     "data": {
      "text/plain": [
       "(['Algeria', 'NORTHERN AFRICA', 44.9], ['Gabon', 'MIDDLE AFRICA', 2.4])"
      ]
     },
     "execution_count": 24,
     "metadata": {},
     "output_type": "execute_result"
    }
   ],
   "source": [
    "# Example country tuple\n",
    "geography_map[0], geography_map[50]"
   ]
  },
  {
   "cell_type": "code",
   "execution_count": 25,
   "metadata": {},
   "outputs": [
    {
     "data": {
      "text/html": [
       "<div>\n",
       "<style scoped>\n",
       "    .dataframe tbody tr th:only-of-type {\n",
       "        vertical-align: middle;\n",
       "    }\n",
       "\n",
       "    .dataframe tbody tr th {\n",
       "        vertical-align: top;\n",
       "    }\n",
       "\n",
       "    .dataframe thead th {\n",
       "        text-align: right;\n",
       "    }\n",
       "</style>\n",
       "<table border=\"1\" class=\"dataframe\">\n",
       "  <thead>\n",
       "    <tr style=\"text-align: right;\">\n",
       "      <th></th>\n",
       "      <th>country</th>\n",
       "      <th>region</th>\n",
       "      <th>population</th>\n",
       "    </tr>\n",
       "  </thead>\n",
       "  <tbody>\n",
       "    <tr>\n",
       "      <td>0</td>\n",
       "      <td>Algeria</td>\n",
       "      <td>NORTHERN AFRICA</td>\n",
       "      <td>44.9</td>\n",
       "    </tr>\n",
       "    <tr>\n",
       "      <td>1</td>\n",
       "      <td>Egypt</td>\n",
       "      <td>NORTHERN AFRICA</td>\n",
       "      <td>103.5</td>\n",
       "    </tr>\n",
       "    <tr>\n",
       "      <td>2</td>\n",
       "      <td>Libya</td>\n",
       "      <td>NORTHERN AFRICA</td>\n",
       "      <td>6.8</td>\n",
       "    </tr>\n",
       "    <tr>\n",
       "      <td>3</td>\n",
       "      <td>Morocco</td>\n",
       "      <td>NORTHERN AFRICA</td>\n",
       "      <td>36.7</td>\n",
       "    </tr>\n",
       "    <tr>\n",
       "      <td>4</td>\n",
       "      <td>Sudan</td>\n",
       "      <td>NORTHERN AFRICA</td>\n",
       "      <td>46.9</td>\n",
       "    </tr>\n",
       "  </tbody>\n",
       "</table>\n",
       "</div>"
      ],
      "text/plain": [
       "   country           region  population\n",
       "0  Algeria  NORTHERN AFRICA        44.9\n",
       "1    Egypt  NORTHERN AFRICA       103.5\n",
       "2    Libya  NORTHERN AFRICA         6.8\n",
       "3  Morocco  NORTHERN AFRICA        36.7\n",
       "4    Sudan  NORTHERN AFRICA        46.9"
      ]
     },
     "execution_count": 25,
     "metadata": {},
     "output_type": "execute_result"
    }
   ],
   "source": [
    "# Crete a datafraome of the countries with their regions and populations\n",
    "region_df = pd.DataFrame(data=geography_map,columns=[\"country\",\"region\",\"population\"])\n",
    "region_df.head()"
   ]
  },
  {
   "cell_type": "code",
   "execution_count": 26,
   "metadata": {},
   "outputs": [
    {
     "data": {
      "text/html": [
       "<div>\n",
       "<style scoped>\n",
       "    .dataframe tbody tr th:only-of-type {\n",
       "        vertical-align: middle;\n",
       "    }\n",
       "\n",
       "    .dataframe tbody tr th {\n",
       "        vertical-align: top;\n",
       "    }\n",
       "\n",
       "    .dataframe thead th {\n",
       "        text-align: right;\n",
       "    }\n",
       "</style>\n",
       "<table border=\"1\" class=\"dataframe\">\n",
       "  <thead>\n",
       "    <tr style=\"text-align: right;\">\n",
       "      <th></th>\n",
       "      <th>country</th>\n",
       "      <th>region</th>\n",
       "      <th>population</th>\n",
       "      <th>article_title</th>\n",
       "      <th>revision_id</th>\n",
       "      <th>article_quality</th>\n",
       "    </tr>\n",
       "  </thead>\n",
       "  <tbody>\n",
       "    <tr>\n",
       "      <td>0</td>\n",
       "      <td>Algeria</td>\n",
       "      <td>NORTHERN AFRICA</td>\n",
       "      <td>44.9</td>\n",
       "      <td>Said Abadou</td>\n",
       "      <td>1112193748</td>\n",
       "      <td>Stub</td>\n",
       "    </tr>\n",
       "    <tr>\n",
       "      <td>1</td>\n",
       "      <td>Algeria</td>\n",
       "      <td>NORTHERN AFRICA</td>\n",
       "      <td>44.9</td>\n",
       "      <td>Tahar Allan</td>\n",
       "      <td>1059626268</td>\n",
       "      <td>Stub</td>\n",
       "    </tr>\n",
       "    <tr>\n",
       "      <td>2</td>\n",
       "      <td>Algeria</td>\n",
       "      <td>NORTHERN AFRICA</td>\n",
       "      <td>44.9</td>\n",
       "      <td>Mohamed Seghir Babes</td>\n",
       "      <td>1079379844</td>\n",
       "      <td>Stub</td>\n",
       "    </tr>\n",
       "    <tr>\n",
       "      <td>3</td>\n",
       "      <td>Algeria</td>\n",
       "      <td>NORTHERN AFRICA</td>\n",
       "      <td>44.9</td>\n",
       "      <td>Djelloul Baghli</td>\n",
       "      <td>1053461392</td>\n",
       "      <td>Stub</td>\n",
       "    </tr>\n",
       "    <tr>\n",
       "      <td>4</td>\n",
       "      <td>Algeria</td>\n",
       "      <td>NORTHERN AFRICA</td>\n",
       "      <td>44.9</td>\n",
       "      <td>Noureddine Bahbouh</td>\n",
       "      <td>1099284595</td>\n",
       "      <td>Stub</td>\n",
       "    </tr>\n",
       "  </tbody>\n",
       "</table>\n",
       "</div>"
      ],
      "text/plain": [
       "   country           region  population         article_title revision_id  \\\n",
       "0  Algeria  NORTHERN AFRICA        44.9           Said Abadou  1112193748   \n",
       "1  Algeria  NORTHERN AFRICA        44.9           Tahar Allan  1059626268   \n",
       "2  Algeria  NORTHERN AFRICA        44.9  Mohamed Seghir Babes  1079379844   \n",
       "3  Algeria  NORTHERN AFRICA        44.9       Djelloul Baghli  1053461392   \n",
       "4  Algeria  NORTHERN AFRICA        44.9    Noureddine Bahbouh  1099284595   \n",
       "\n",
       "  article_quality  \n",
       "0            Stub  \n",
       "1            Stub  \n",
       "2            Stub  \n",
       "3            Stub  \n",
       "4            Stub  "
      ]
     },
     "execution_count": 26,
     "metadata": {},
     "output_type": "execute_result"
    }
   ],
   "source": [
    "#Merge the regions and populations with the article ratings table\n",
    "final_df = pd.merge(region_df,merged_df, how='outer', on='country')\n",
    "# Select necessary columns\n",
    "final_df = final_df[[\"country\",\"region\",\"population\",\"name\",\"revid\",\"score\"]]\n",
    "# Reset the column names to the desired table output\n",
    "final_df.columns = [\"country\",\"region\",\"population\",\"article_title\",\"revision_id\",\"article_quality\"]\n",
    "# Remove rows that have NAs\n",
    "has_nans = final_df[final_df['population'].isna()]\n",
    "# Final df is all articles that a rating could be generated for\n",
    "final_df = final_df[~final_df['population'].isna()]\n",
    "final_df.head()"
   ]
  },
  {
   "cell_type": "code",
   "execution_count": 27,
   "metadata": {},
   "outputs": [],
   "source": [
    "# Save to disk in the working folder\n",
    "final_df.to_csv(os.getcwd()+\"\\\\wp_politicians_by_country.csv\",index=False)"
   ]
  },
  {
   "cell_type": "code",
   "execution_count": 28,
   "metadata": {},
   "outputs": [
    {
     "data": {
      "text/plain": [
       "array(['Korean'], dtype=object)"
      ]
     },
     "execution_count": 28,
     "metadata": {},
     "output_type": "execute_result"
    }
   ],
   "source": [
    "# Find out which countries couldnt be resolved\n",
    "all_nans = has_nans['country'].unique()\n",
    "all_nans"
   ]
  },
  {
   "cell_type": "markdown",
   "metadata": {},
   "source": [
    "Here there is no data for Korean because in the population CSV, the countries are represented as Korea, North and Korea, South so therefore the table operations result in no key matches. For this reason we will not include these two countries in the analysis"
   ]
  },
  {
   "cell_type": "code",
   "execution_count": 29,
   "metadata": {},
   "outputs": [],
   "source": [
    "# Save contries that dont have a match to a text tfile\n",
    "with open(os.getcwd()+\"\\\\wp_countries-no_match.txt\",'a') as f:\n",
    "    for c in all_nans:\n",
    "        f.write(c+\"\\n\")"
   ]
  },
  {
   "cell_type": "markdown",
   "metadata": {},
   "source": [
    "## Analysis"
   ]
  },
  {
   "cell_type": "markdown",
   "metadata": {},
   "source": [
    "Here we will calculate total-articles-per-population (a ratio representing the number of articles per person) and high-quality-articles-per-population (a ratio representing the number of high quality articles per person) on a country-by-country and regional basis. Also we will normalize them all to be “per capita”."
   ]
  },
  {
   "cell_type": "markdown",
   "metadata": {},
   "source": [
    "Top 10 countries by coverage: \n",
    "- The 10 countries with the highest total articles per capita (in descending order):"
   ]
  },
  {
   "cell_type": "code",
   "execution_count": 30,
   "metadata": {},
   "outputs": [
    {
     "data": {
      "text/plain": [
       "country\n",
       "Afghanistan    118\n",
       "Albania         83\n",
       "Algeria         34\n",
       "Andorra         10\n",
       "Angola          42\n",
       "Name: article_title, dtype: int64"
      ]
     },
     "execution_count": 30,
     "metadata": {},
     "output_type": "execute_result"
    }
   ],
   "source": [
    "# Group articles together by country and get a count of articles\n",
    "total_articles_per_country = final_df.groupby(\"country\")['article_title'].count()\n",
    "total_articles_per_country.head()"
   ]
  },
  {
   "cell_type": "code",
   "execution_count": 33,
   "metadata": {},
   "outputs": [
    {
     "data": {
      "text/html": [
       "<div>\n",
       "<style scoped>\n",
       "    .dataframe tbody tr th:only-of-type {\n",
       "        vertical-align: middle;\n",
       "    }\n",
       "\n",
       "    .dataframe tbody tr th {\n",
       "        vertical-align: top;\n",
       "    }\n",
       "\n",
       "    .dataframe thead th {\n",
       "        text-align: right;\n",
       "    }\n",
       "</style>\n",
       "<table border=\"1\" class=\"dataframe\">\n",
       "  <thead>\n",
       "    <tr style=\"text-align: right;\">\n",
       "      <th></th>\n",
       "      <th>Geography</th>\n",
       "      <th>articles_per_population_mil</th>\n",
       "    </tr>\n",
       "  </thead>\n",
       "  <tbody>\n",
       "    <tr>\n",
       "      <td>185</td>\n",
       "      <td>Monaco</td>\n",
       "      <td>inf</td>\n",
       "    </tr>\n",
       "    <tr>\n",
       "      <td>226</td>\n",
       "      <td>Palau</td>\n",
       "      <td>inf</td>\n",
       "    </tr>\n",
       "    <tr>\n",
       "      <td>211</td>\n",
       "      <td>San Marino</td>\n",
       "      <td>inf</td>\n",
       "    </tr>\n",
       "    <tr>\n",
       "      <td>183</td>\n",
       "      <td>Liechtenstein</td>\n",
       "      <td>inf</td>\n",
       "    </tr>\n",
       "    <tr>\n",
       "      <td>231</td>\n",
       "      <td>Tuvalu</td>\n",
       "      <td>inf</td>\n",
       "    </tr>\n",
       "    <tr>\n",
       "      <td>223</td>\n",
       "      <td>Nauru</td>\n",
       "      <td>inf</td>\n",
       "    </tr>\n",
       "    <tr>\n",
       "      <td>78</td>\n",
       "      <td>Antigua and Barbuda</td>\n",
       "      <td>170.000000</td>\n",
       "    </tr>\n",
       "    <tr>\n",
       "      <td>217</td>\n",
       "      <td>Federated States of Micronesia</td>\n",
       "      <td>130.000000</td>\n",
       "    </tr>\n",
       "    <tr>\n",
       "      <td>201</td>\n",
       "      <td>Andorra</td>\n",
       "      <td>100.000000</td>\n",
       "    </tr>\n",
       "    <tr>\n",
       "      <td>80</td>\n",
       "      <td>Barbados</td>\n",
       "      <td>93.333333</td>\n",
       "    </tr>\n",
       "  </tbody>\n",
       "</table>\n",
       "</div>"
      ],
      "text/plain": [
       "                          Geography  articles_per_population_mil\n",
       "185                          Monaco                          inf\n",
       "226                           Palau                          inf\n",
       "211                      San Marino                          inf\n",
       "183                   Liechtenstein                          inf\n",
       "231                          Tuvalu                          inf\n",
       "223                           Nauru                          inf\n",
       "78              Antigua and Barbuda                   170.000000\n",
       "217  Federated States of Micronesia                   130.000000\n",
       "201                         Andorra                   100.000000\n",
       "80                         Barbados                    93.333333"
      ]
     },
     "execution_count": 33,
     "metadata": {},
     "output_type": "execute_result"
    }
   ],
   "source": [
    "# Merge together the articles for each country with countries populations\n",
    "total_articles_per_pop_country = pd.merge(total_articles_per_country,countries, \n",
    "                                          how=\"inner\",left_index=True ,right_on=\"Geography\")\n",
    "# Create a new column that is the number of articles divided by the normalized population\n",
    "total_articles_per_pop_country[\"articles_per_population_mil\"] = total_articles_per_pop_country[\"article_title\"]/\\\n",
    "                                                        total_articles_per_pop_country[\"Population (millions)\"]\n",
    "# Select desired columns select the largest and sort in descending order\n",
    "total_articles_per_pop_country_highest = total_articles_per_pop_country[[\"Geography\",\"articles_per_population_mil\"]].sort_values(ascending=False, \n",
    "                                        by =\"articles_per_population_mil\")\n",
    "# Display the top 10\n",
    "total_articles_per_pop_country_highest.head(10)"
   ]
  },
  {
   "cell_type": "markdown",
   "metadata": {},
   "source": [
    "Here the top 6 are inf because their popualtion values are 0.\n",
    "\n",
    "Below is the table with those values removed"
   ]
  },
  {
   "cell_type": "code",
   "execution_count": 36,
   "metadata": {},
   "outputs": [
    {
     "data": {
      "text/html": [
       "<div>\n",
       "<style scoped>\n",
       "    .dataframe tbody tr th:only-of-type {\n",
       "        vertical-align: middle;\n",
       "    }\n",
       "\n",
       "    .dataframe tbody tr th {\n",
       "        vertical-align: top;\n",
       "    }\n",
       "\n",
       "    .dataframe thead th {\n",
       "        text-align: right;\n",
       "    }\n",
       "</style>\n",
       "<table border=\"1\" class=\"dataframe\">\n",
       "  <thead>\n",
       "    <tr style=\"text-align: right;\">\n",
       "      <th></th>\n",
       "      <th>Geography</th>\n",
       "      <th>articles_per_population_mil</th>\n",
       "    </tr>\n",
       "  </thead>\n",
       "  <tbody>\n",
       "    <tr>\n",
       "      <td>78</td>\n",
       "      <td>Antigua and Barbuda</td>\n",
       "      <td>170.000000</td>\n",
       "    </tr>\n",
       "    <tr>\n",
       "      <td>217</td>\n",
       "      <td>Federated States of Micronesia</td>\n",
       "      <td>130.000000</td>\n",
       "    </tr>\n",
       "    <tr>\n",
       "      <td>201</td>\n",
       "      <td>Andorra</td>\n",
       "      <td>100.000000</td>\n",
       "    </tr>\n",
       "    <tr>\n",
       "      <td>80</td>\n",
       "      <td>Barbados</td>\n",
       "      <td>93.333333</td>\n",
       "    </tr>\n",
       "    <tr>\n",
       "      <td>222</td>\n",
       "      <td>Marshall Islands</td>\n",
       "      <td>90.000000</td>\n",
       "    </tr>\n",
       "    <tr>\n",
       "      <td>208</td>\n",
       "      <td>Montenegro</td>\n",
       "      <td>60.000000</td>\n",
       "    </tr>\n",
       "    <tr>\n",
       "      <td>41</td>\n",
       "      <td>Seychelles</td>\n",
       "      <td>60.000000</td>\n",
       "    </tr>\n",
       "    <tr>\n",
       "      <td>184</td>\n",
       "      <td>Luxembourg</td>\n",
       "      <td>52.857143</td>\n",
       "    </tr>\n",
       "    <tr>\n",
       "      <td>138</td>\n",
       "      <td>Bhutan</td>\n",
       "      <td>51.250000</td>\n",
       "    </tr>\n",
       "    <tr>\n",
       "      <td>85</td>\n",
       "      <td>Grenada</td>\n",
       "      <td>50.000000</td>\n",
       "    </tr>\n",
       "  </tbody>\n",
       "</table>\n",
       "</div>"
      ],
      "text/plain": [
       "                          Geography  articles_per_population_mil\n",
       "78              Antigua and Barbuda                   170.000000\n",
       "217  Federated States of Micronesia                   130.000000\n",
       "201                         Andorra                   100.000000\n",
       "80                         Barbados                    93.333333\n",
       "222                Marshall Islands                    90.000000\n",
       "208                      Montenegro                    60.000000\n",
       "41                       Seychelles                    60.000000\n",
       "184                      Luxembourg                    52.857143\n",
       "138                          Bhutan                    51.250000\n",
       "85                          Grenada                    50.000000"
      ]
     },
     "execution_count": 36,
     "metadata": {},
     "output_type": "execute_result"
    }
   ],
   "source": [
    "total_articles_per_pop_country_highest.iloc[6:,:].head(10)"
   ]
  },
  {
   "cell_type": "markdown",
   "metadata": {},
   "source": [
    "Bottom 10 countries by coverage: \n",
    "- The 10 countries with the lowest total articles per capita (in ascending order) ."
   ]
  },
  {
   "cell_type": "code",
   "execution_count": 38,
   "metadata": {},
   "outputs": [
    {
     "data": {
      "text/html": [
       "<div>\n",
       "<style scoped>\n",
       "    .dataframe tbody tr th:only-of-type {\n",
       "        vertical-align: middle;\n",
       "    }\n",
       "\n",
       "    .dataframe tbody tr th {\n",
       "        vertical-align: top;\n",
       "    }\n",
       "\n",
       "    .dataframe thead th {\n",
       "        text-align: right;\n",
       "    }\n",
       "</style>\n",
       "<table border=\"1\" class=\"dataframe\">\n",
       "  <thead>\n",
       "    <tr style=\"text-align: right;\">\n",
       "      <th></th>\n",
       "      <th>Geography</th>\n",
       "      <th>articles_per_population_mil</th>\n",
       "    </tr>\n",
       "  </thead>\n",
       "  <tbody>\n",
       "    <tr>\n",
       "      <td>60</td>\n",
       "      <td>eSwatini</td>\n",
       "      <td>0.0</td>\n",
       "    </tr>\n",
       "    <tr>\n",
       "      <td>57</td>\n",
       "      <td>Sao Tome and Principe</td>\n",
       "      <td>0.0</td>\n",
       "    </tr>\n",
       "    <tr>\n",
       "      <td>146</td>\n",
       "      <td>Brunei</td>\n",
       "      <td>0.0</td>\n",
       "    </tr>\n",
       "    <tr>\n",
       "      <td>159</td>\n",
       "      <td>China,  Hong Kong SAR</td>\n",
       "      <td>0.0</td>\n",
       "    </tr>\n",
       "    <tr>\n",
       "      <td>160</td>\n",
       "      <td>China,  Macao SAR</td>\n",
       "      <td>0.0</td>\n",
       "    </tr>\n",
       "    <tr>\n",
       "      <td>39</td>\n",
       "      <td>Reunion</td>\n",
       "      <td>0.0</td>\n",
       "    </tr>\n",
       "    <tr>\n",
       "      <td>90</td>\n",
       "      <td>Puerto Rico</td>\n",
       "      <td>0.0</td>\n",
       "    </tr>\n",
       "    <tr>\n",
       "      <td>152</td>\n",
       "      <td>Philippines</td>\n",
       "      <td>0.0</td>\n",
       "    </tr>\n",
       "    <tr>\n",
       "      <td>82</td>\n",
       "      <td>Curacao</td>\n",
       "      <td>0.0</td>\n",
       "    </tr>\n",
       "    <tr>\n",
       "      <td>225</td>\n",
       "      <td>New Zealand</td>\n",
       "      <td>0.0</td>\n",
       "    </tr>\n",
       "  </tbody>\n",
       "</table>\n",
       "</div>"
      ],
      "text/plain": [
       "                 Geography  articles_per_population_mil\n",
       "60                eSwatini                          0.0\n",
       "57   Sao Tome and Principe                          0.0\n",
       "146                 Brunei                          0.0\n",
       "159  China,  Hong Kong SAR                          0.0\n",
       "160      China,  Macao SAR                          0.0\n",
       "39                 Reunion                          0.0\n",
       "90             Puerto Rico                          0.0\n",
       "152            Philippines                          0.0\n",
       "82                 Curacao                          0.0\n",
       "225            New Zealand                          0.0"
      ]
     },
     "execution_count": 38,
     "metadata": {},
     "output_type": "execute_result"
    }
   ],
   "source": [
    "# Select desired columns select the largest and sort in ascending order\n",
    "total_articles_per_pop_country_lowest = total_articles_per_pop_country[[\"Geography\",\"articles_per_population_mil\"]]. \\\n",
    "                                        sort_values(ascending=True, \n",
    "                                        by =\"articles_per_population_mil\")\n",
    "total_articles_per_pop_country_lowest.head(10)"
   ]
  },
  {
   "cell_type": "markdown",
   "metadata": {},
   "source": [
    "Top 10 countries by high quality:\n",
    "- The 10 countries with the highest high quality articles per capita (in descending order)"
   ]
  },
  {
   "cell_type": "code",
   "execution_count": 60,
   "metadata": {},
   "outputs": [
    {
     "data": {
      "text/html": [
       "<div>\n",
       "<style scoped>\n",
       "    .dataframe tbody tr th:only-of-type {\n",
       "        vertical-align: middle;\n",
       "    }\n",
       "\n",
       "    .dataframe tbody tr th {\n",
       "        vertical-align: top;\n",
       "    }\n",
       "\n",
       "    .dataframe thead th {\n",
       "        text-align: right;\n",
       "    }\n",
       "</style>\n",
       "<table border=\"1\" class=\"dataframe\">\n",
       "  <thead>\n",
       "    <tr style=\"text-align: right;\">\n",
       "      <th></th>\n",
       "      <th>country</th>\n",
       "      <th>region</th>\n",
       "      <th>population</th>\n",
       "      <th>article_title</th>\n",
       "      <th>revision_id</th>\n",
       "      <th>article_quality</th>\n",
       "    </tr>\n",
       "  </thead>\n",
       "  <tbody>\n",
       "    <tr>\n",
       "      <td>60</td>\n",
       "      <td>Libya</td>\n",
       "      <td>NORTHERN AFRICA</td>\n",
       "      <td>6.8</td>\n",
       "      <td>Khalifa Haftar</td>\n",
       "      <td>1115568588</td>\n",
       "      <td>FA</td>\n",
       "    </tr>\n",
       "    <tr>\n",
       "      <td>73</td>\n",
       "      <td>Libya</td>\n",
       "      <td>NORTHERN AFRICA</td>\n",
       "      <td>6.8</td>\n",
       "      <td>Fayez al-Sarraj</td>\n",
       "      <td>1115566067</td>\n",
       "      <td>GA</td>\n",
       "    </tr>\n",
       "    <tr>\n",
       "      <td>115</td>\n",
       "      <td>Morocco</td>\n",
       "      <td>NORTHERN AFRICA</td>\n",
       "      <td>36.7</td>\n",
       "      <td>Muhammad al-Kattani</td>\n",
       "      <td>1088340779</td>\n",
       "      <td>GA</td>\n",
       "    </tr>\n",
       "    <tr>\n",
       "      <td>160</td>\n",
       "      <td>Sudan</td>\n",
       "      <td>NORTHERN AFRICA</td>\n",
       "      <td>46.9</td>\n",
       "      <td>Abdallahi ibn Muhammad</td>\n",
       "      <td>1092462251</td>\n",
       "      <td>GA</td>\n",
       "    </tr>\n",
       "    <tr>\n",
       "      <td>192</td>\n",
       "      <td>Tunisia</td>\n",
       "      <td>NORTHERN AFRICA</td>\n",
       "      <td>11.8</td>\n",
       "      <td>Rached Ghannouchi</td>\n",
       "      <td>1109470504</td>\n",
       "      <td>GA</td>\n",
       "    </tr>\n",
       "  </tbody>\n",
       "</table>\n",
       "</div>"
      ],
      "text/plain": [
       "     country           region  population           article_title revision_id  \\\n",
       "60     Libya  NORTHERN AFRICA         6.8          Khalifa Haftar  1115568588   \n",
       "73     Libya  NORTHERN AFRICA         6.8         Fayez al-Sarraj  1115566067   \n",
       "115  Morocco  NORTHERN AFRICA        36.7     Muhammad al-Kattani  1088340779   \n",
       "160    Sudan  NORTHERN AFRICA        46.9  Abdallahi ibn Muhammad  1092462251   \n",
       "192  Tunisia  NORTHERN AFRICA        11.8       Rached Ghannouchi  1109470504   \n",
       "\n",
       "    article_quality  \n",
       "60               FA  \n",
       "73               GA  \n",
       "115              GA  \n",
       "160              GA  \n",
       "192              GA  "
      ]
     },
     "execution_count": 60,
     "metadata": {},
     "output_type": "execute_result"
    }
   ],
   "source": [
    "# Filter articles that are rated FA or GA by the model\n",
    "only_quality_articles = final_df[(final_df['article_quality'] == \"FA\") | (final_df['article_quality'] == \"GA\")]\n",
    "only_quality_articles.head()"
   ]
  },
  {
   "cell_type": "code",
   "execution_count": 61,
   "metadata": {},
   "outputs": [
    {
     "data": {
      "text/html": [
       "<div>\n",
       "<style scoped>\n",
       "    .dataframe tbody tr th:only-of-type {\n",
       "        vertical-align: middle;\n",
       "    }\n",
       "\n",
       "    .dataframe tbody tr th {\n",
       "        vertical-align: top;\n",
       "    }\n",
       "\n",
       "    .dataframe thead th {\n",
       "        text-align: right;\n",
       "    }\n",
       "</style>\n",
       "<table border=\"1\" class=\"dataframe\">\n",
       "  <thead>\n",
       "    <tr style=\"text-align: right;\">\n",
       "      <th></th>\n",
       "      <th>Geography</th>\n",
       "      <th>articles_per_population_mil</th>\n",
       "    </tr>\n",
       "  </thead>\n",
       "  <tbody>\n",
       "    <tr>\n",
       "      <td>85</td>\n",
       "      <td>Tuvalu</td>\n",
       "      <td>inf</td>\n",
       "    </tr>\n",
       "    <tr>\n",
       "      <td>2</td>\n",
       "      <td>Andorra</td>\n",
       "      <td>20.000000</td>\n",
       "    </tr>\n",
       "    <tr>\n",
       "      <td>53</td>\n",
       "      <td>Montenegro</td>\n",
       "      <td>5.000000</td>\n",
       "    </tr>\n",
       "    <tr>\n",
       "      <td>1</td>\n",
       "      <td>Albania</td>\n",
       "      <td>2.142857</td>\n",
       "    </tr>\n",
       "    <tr>\n",
       "      <td>9</td>\n",
       "      <td>Bosnia-Herzegovina</td>\n",
       "      <td>1.470588</td>\n",
       "    </tr>\n",
       "    <tr>\n",
       "      <td>49</td>\n",
       "      <td>Lithuania</td>\n",
       "      <td>1.071429</td>\n",
       "    </tr>\n",
       "    <tr>\n",
       "      <td>19</td>\n",
       "      <td>Croatia</td>\n",
       "      <td>1.052632</td>\n",
       "    </tr>\n",
       "    <tr>\n",
       "      <td>74</td>\n",
       "      <td>Slovenia</td>\n",
       "      <td>0.952381</td>\n",
       "    </tr>\n",
       "    <tr>\n",
       "      <td>61</td>\n",
       "      <td>Palestinian Territory</td>\n",
       "      <td>0.925926</td>\n",
       "    </tr>\n",
       "    <tr>\n",
       "      <td>28</td>\n",
       "      <td>Gabon</td>\n",
       "      <td>0.833333</td>\n",
       "    </tr>\n",
       "  </tbody>\n",
       "</table>\n",
       "</div>"
      ],
      "text/plain": [
       "                Geography  articles_per_population_mil\n",
       "85                 Tuvalu                          inf\n",
       "2                 Andorra                    20.000000\n",
       "53             Montenegro                     5.000000\n",
       "1                 Albania                     2.142857\n",
       "9      Bosnia-Herzegovina                     1.470588\n",
       "49              Lithuania                     1.071429\n",
       "19                Croatia                     1.052632\n",
       "74               Slovenia                     0.952381\n",
       "61  Palestinian Territory                     0.925926\n",
       "28                  Gabon                     0.833333"
      ]
     },
     "execution_count": 61,
     "metadata": {},
     "output_type": "execute_result"
    }
   ],
   "source": [
    "# Merge together the articles for each country with countries populations\n",
    "total_articles_per_country = only_quality_articles.groupby(\"country\")['article_title'].count()\n",
    "total_qual_articles_per_pop_country = pd.merge(total_articles_per_country,countries, \n",
    "                                          how=\"inner\",left_on=\"country\" ,right_on=\"Geography\")\n",
    "# Create a new column that is the number of articles divided by the normalized population\n",
    "total_qual_articles_per_pop_country[\"articles_per_population_mil\"] = total_qual_articles_per_pop_country[\"article_title\"]/\\\n",
    "                                                        total_qual_articles_per_pop_country[\"Population (millions)\"]\n",
    "# Select desired columns select the largest and sort in descending order\n",
    "total_qual_articles_per_pop_country_high = total_qual_articles_per_pop_country[[\"Geography\",\n",
    "                                        \"articles_per_population_mil\"]].sort_values(ascending=False, \n",
    "                                        by =\"articles_per_population_mil\")\n",
    "total_qual_articles_per_pop_country_high.head(10)"
   ]
  },
  {
   "cell_type": "markdown",
   "metadata": {},
   "source": [
    "Here the top one is inf because their popualtion values are 0.\n",
    "\n",
    "Below is the table with those values removed"
   ]
  },
  {
   "cell_type": "code",
   "execution_count": 48,
   "metadata": {},
   "outputs": [
    {
     "data": {
      "text/html": [
       "<div>\n",
       "<style scoped>\n",
       "    .dataframe tbody tr th:only-of-type {\n",
       "        vertical-align: middle;\n",
       "    }\n",
       "\n",
       "    .dataframe tbody tr th {\n",
       "        vertical-align: top;\n",
       "    }\n",
       "\n",
       "    .dataframe thead th {\n",
       "        text-align: right;\n",
       "    }\n",
       "</style>\n",
       "<table border=\"1\" class=\"dataframe\">\n",
       "  <thead>\n",
       "    <tr style=\"text-align: right;\">\n",
       "      <th></th>\n",
       "      <th>Geography</th>\n",
       "      <th>articles_per_population_mil</th>\n",
       "    </tr>\n",
       "  </thead>\n",
       "  <tbody>\n",
       "    <tr>\n",
       "      <td>2</td>\n",
       "      <td>Andorra</td>\n",
       "      <td>20.000000</td>\n",
       "    </tr>\n",
       "    <tr>\n",
       "      <td>53</td>\n",
       "      <td>Montenegro</td>\n",
       "      <td>5.000000</td>\n",
       "    </tr>\n",
       "    <tr>\n",
       "      <td>1</td>\n",
       "      <td>Albania</td>\n",
       "      <td>2.142857</td>\n",
       "    </tr>\n",
       "    <tr>\n",
       "      <td>9</td>\n",
       "      <td>Bosnia-Herzegovina</td>\n",
       "      <td>1.470588</td>\n",
       "    </tr>\n",
       "    <tr>\n",
       "      <td>49</td>\n",
       "      <td>Lithuania</td>\n",
       "      <td>1.071429</td>\n",
       "    </tr>\n",
       "    <tr>\n",
       "      <td>19</td>\n",
       "      <td>Croatia</td>\n",
       "      <td>1.052632</td>\n",
       "    </tr>\n",
       "    <tr>\n",
       "      <td>74</td>\n",
       "      <td>Slovenia</td>\n",
       "      <td>0.952381</td>\n",
       "    </tr>\n",
       "    <tr>\n",
       "      <td>61</td>\n",
       "      <td>Palestinian Territory</td>\n",
       "      <td>0.925926</td>\n",
       "    </tr>\n",
       "    <tr>\n",
       "      <td>28</td>\n",
       "      <td>Gabon</td>\n",
       "      <td>0.833333</td>\n",
       "    </tr>\n",
       "    <tr>\n",
       "      <td>25</td>\n",
       "      <td>Estonia</td>\n",
       "      <td>0.769231</td>\n",
       "    </tr>\n",
       "  </tbody>\n",
       "</table>\n",
       "</div>"
      ],
      "text/plain": [
       "                Geography  articles_per_population_mil\n",
       "2                 Andorra                    20.000000\n",
       "53             Montenegro                     5.000000\n",
       "1                 Albania                     2.142857\n",
       "9      Bosnia-Herzegovina                     1.470588\n",
       "49              Lithuania                     1.071429\n",
       "19                Croatia                     1.052632\n",
       "74               Slovenia                     0.952381\n",
       "61  Palestinian Territory                     0.925926\n",
       "28                  Gabon                     0.833333\n",
       "25                Estonia                     0.769231"
      ]
     },
     "execution_count": 48,
     "metadata": {},
     "output_type": "execute_result"
    }
   ],
   "source": [
    "total_qual_articles_per_pop_country_high.iloc[1:,:].head(10)"
   ]
  },
  {
   "cell_type": "markdown",
   "metadata": {},
   "source": [
    "Bottom 10 countries by high quality: \n",
    "- The 10 countries with the lowest high quality articles per capita (in ascending order)."
   ]
  },
  {
   "cell_type": "code",
   "execution_count": 49,
   "metadata": {},
   "outputs": [
    {
     "data": {
      "text/html": [
       "<div>\n",
       "<style scoped>\n",
       "    .dataframe tbody tr th:only-of-type {\n",
       "        vertical-align: middle;\n",
       "    }\n",
       "\n",
       "    .dataframe tbody tr th {\n",
       "        vertical-align: top;\n",
       "    }\n",
       "\n",
       "    .dataframe thead th {\n",
       "        text-align: right;\n",
       "    }\n",
       "</style>\n",
       "<table border=\"1\" class=\"dataframe\">\n",
       "  <thead>\n",
       "    <tr style=\"text-align: right;\">\n",
       "      <th></th>\n",
       "      <th>Geography</th>\n",
       "      <th>articles_per_population_mil</th>\n",
       "    </tr>\n",
       "  </thead>\n",
       "  <tbody>\n",
       "    <tr>\n",
       "      <td>35</td>\n",
       "      <td>India</td>\n",
       "      <td>0.004234</td>\n",
       "    </tr>\n",
       "    <tr>\n",
       "      <td>83</td>\n",
       "      <td>Thailand</td>\n",
       "      <td>0.014970</td>\n",
       "    </tr>\n",
       "    <tr>\n",
       "      <td>39</td>\n",
       "      <td>Japan</td>\n",
       "      <td>0.016013</td>\n",
       "    </tr>\n",
       "    <tr>\n",
       "      <td>58</td>\n",
       "      <td>Nigeria</td>\n",
       "      <td>0.018307</td>\n",
       "    </tr>\n",
       "    <tr>\n",
       "      <td>90</td>\n",
       "      <td>Vietnam</td>\n",
       "      <td>0.020121</td>\n",
       "    </tr>\n",
       "    <tr>\n",
       "      <td>17</td>\n",
       "      <td>Colombia</td>\n",
       "      <td>0.020367</td>\n",
       "    </tr>\n",
       "    <tr>\n",
       "      <td>86</td>\n",
       "      <td>Uganda</td>\n",
       "      <td>0.021186</td>\n",
       "    </tr>\n",
       "    <tr>\n",
       "      <td>60</td>\n",
       "      <td>Pakistan</td>\n",
       "      <td>0.021204</td>\n",
       "    </tr>\n",
       "    <tr>\n",
       "      <td>79</td>\n",
       "      <td>Sudan</td>\n",
       "      <td>0.021322</td>\n",
       "    </tr>\n",
       "    <tr>\n",
       "      <td>37</td>\n",
       "      <td>Iran</td>\n",
       "      <td>0.022573</td>\n",
       "    </tr>\n",
       "  </tbody>\n",
       "</table>\n",
       "</div>"
      ],
      "text/plain": [
       "   Geography  articles_per_population_mil\n",
       "35     India                     0.004234\n",
       "83  Thailand                     0.014970\n",
       "39     Japan                     0.016013\n",
       "58   Nigeria                     0.018307\n",
       "90   Vietnam                     0.020121\n",
       "17  Colombia                     0.020367\n",
       "86    Uganda                     0.021186\n",
       "60  Pakistan                     0.021204\n",
       "79     Sudan                     0.021322\n",
       "37      Iran                     0.022573"
      ]
     },
     "execution_count": 49,
     "metadata": {},
     "output_type": "execute_result"
    }
   ],
   "source": [
    "# Select desired columns select the largest and sort in ascending order\n",
    "total_qual_articles_per_pop_country_low = total_qual_articles_per_pop_country[[\"Geography\",\n",
    "                                        \"articles_per_population_mil\"]].sort_values(ascending=True, \n",
    "                                        by =\"articles_per_population_mil\")\n",
    "total_qual_articles_per_pop_country_low.head(10)"
   ]
  },
  {
   "cell_type": "markdown",
   "metadata": {},
   "source": [
    "Geographic regions by total coverage: \n",
    "- A rank ordered list of geographic regions (in descending order) by total articles per capita."
   ]
  },
  {
   "cell_type": "code",
   "execution_count": 50,
   "metadata": {},
   "outputs": [
    {
     "data": {
      "text/plain": [
       "region\n",
       "CARIBBEAN          201\n",
       "CENTRAL AMERICA    193\n",
       "CENTRAL ASIA       103\n",
       "EAST ASIA          245\n",
       "EASTERN AFRICA     646\n",
       "Name: article_quality, dtype: int64"
      ]
     },
     "execution_count": 50,
     "metadata": {},
     "output_type": "execute_result"
    }
   ],
   "source": [
    "# Aggregate counts together by region\n",
    "article_counts_region = final_df.groupby(\"region\")['article_quality'].count()\n",
    "article_counts_region.head()"
   ]
  },
  {
   "cell_type": "code",
   "execution_count": 51,
   "metadata": {},
   "outputs": [
    {
     "data": {
      "text/html": [
       "<div>\n",
       "<style scoped>\n",
       "    .dataframe tbody tr th:only-of-type {\n",
       "        vertical-align: middle;\n",
       "    }\n",
       "\n",
       "    .dataframe tbody tr th {\n",
       "        vertical-align: top;\n",
       "    }\n",
       "\n",
       "    .dataframe thead th {\n",
       "        text-align: right;\n",
       "    }\n",
       "</style>\n",
       "<table border=\"1\" class=\"dataframe\">\n",
       "  <thead>\n",
       "    <tr style=\"text-align: right;\">\n",
       "      <th></th>\n",
       "      <th>country</th>\n",
       "      <th>articles_per_population_mil</th>\n",
       "    </tr>\n",
       "  </thead>\n",
       "  <tbody>\n",
       "    <tr>\n",
       "      <td>199</td>\n",
       "      <td>SOUTHERN EUROPE</td>\n",
       "      <td>5.788079</td>\n",
       "    </tr>\n",
       "    <tr>\n",
       "      <td>77</td>\n",
       "      <td>CARIBBEAN</td>\n",
       "      <td>4.568182</td>\n",
       "    </tr>\n",
       "    <tr>\n",
       "      <td>178</td>\n",
       "      <td>WESTERN EUROPE</td>\n",
       "      <td>3.543147</td>\n",
       "    </tr>\n",
       "    <tr>\n",
       "      <td>188</td>\n",
       "      <td>EASTERN EUROPE</td>\n",
       "      <td>2.526132</td>\n",
       "    </tr>\n",
       "    <tr>\n",
       "      <td>167</td>\n",
       "      <td>NORTHERN EUROPE</td>\n",
       "      <td>2.429907</td>\n",
       "    </tr>\n",
       "    <tr>\n",
       "      <td>110</td>\n",
       "      <td>WESTERN ASIA</td>\n",
       "      <td>2.326531</td>\n",
       "    </tr>\n",
       "    <tr>\n",
       "      <td>215</td>\n",
       "      <td>OCEANIA</td>\n",
       "      <td>1.954545</td>\n",
       "    </tr>\n",
       "    <tr>\n",
       "      <td>58</td>\n",
       "      <td>SOUTHERN AFRICA</td>\n",
       "      <td>1.695652</td>\n",
       "    </tr>\n",
       "    <tr>\n",
       "      <td>27</td>\n",
       "      <td>EASTERN AFRICA</td>\n",
       "      <td>1.365751</td>\n",
       "    </tr>\n",
       "    <tr>\n",
       "      <td>95</td>\n",
       "      <td>SOUTH AMERICA</td>\n",
       "      <td>1.327189</td>\n",
       "    </tr>\n",
       "    <tr>\n",
       "      <td>129</td>\n",
       "      <td>CENTRAL ASIA</td>\n",
       "      <td>1.320513</td>\n",
       "    </tr>\n",
       "    <tr>\n",
       "      <td>10</td>\n",
       "      <td>WESTERN AFRICA</td>\n",
       "      <td>1.316279</td>\n",
       "    </tr>\n",
       "    <tr>\n",
       "      <td>68</td>\n",
       "      <td>CENTRAL AMERICA</td>\n",
       "      <td>1.084270</td>\n",
       "    </tr>\n",
       "    <tr>\n",
       "      <td>48</td>\n",
       "      <td>MIDDLE AFRICA</td>\n",
       "      <td>1.035714</td>\n",
       "    </tr>\n",
       "    <tr>\n",
       "      <td>2</td>\n",
       "      <td>NORTHERN AFRICA</td>\n",
       "      <td>0.904382</td>\n",
       "    </tr>\n",
       "    <tr>\n",
       "      <td>145</td>\n",
       "      <td>SOUTHEAST ASIA</td>\n",
       "      <td>0.606509</td>\n",
       "    </tr>\n",
       "    <tr>\n",
       "      <td>135</td>\n",
       "      <td>SOUTH ASIA</td>\n",
       "      <td>0.320717</td>\n",
       "    </tr>\n",
       "    <tr>\n",
       "      <td>157</td>\n",
       "      <td>EAST ASIA</td>\n",
       "      <td>0.146356</td>\n",
       "    </tr>\n",
       "    <tr>\n",
       "      <td>64</td>\n",
       "      <td>NORTHERN AMERICA</td>\n",
       "      <td>0.000000</td>\n",
       "    </tr>\n",
       "  </tbody>\n",
       "</table>\n",
       "</div>"
      ],
      "text/plain": [
       "              country  articles_per_population_mil\n",
       "199   SOUTHERN EUROPE                     5.788079\n",
       "77          CARIBBEAN                     4.568182\n",
       "178    WESTERN EUROPE                     3.543147\n",
       "188    EASTERN EUROPE                     2.526132\n",
       "167   NORTHERN EUROPE                     2.429907\n",
       "110      WESTERN ASIA                     2.326531\n",
       "215           OCEANIA                     1.954545\n",
       "58    SOUTHERN AFRICA                     1.695652\n",
       "27     EASTERN AFRICA                     1.365751\n",
       "95      SOUTH AMERICA                     1.327189\n",
       "129      CENTRAL ASIA                     1.320513\n",
       "10     WESTERN AFRICA                     1.316279\n",
       "68    CENTRAL AMERICA                     1.084270\n",
       "48      MIDDLE AFRICA                     1.035714\n",
       "2     NORTHERN AFRICA                     0.904382\n",
       "145    SOUTHEAST ASIA                     0.606509\n",
       "135        SOUTH ASIA                     0.320717\n",
       "157         EAST ASIA                     0.146356\n",
       "64   NORTHERN AMERICA                     0.000000"
      ]
     },
     "execution_count": 51,
     "metadata": {},
     "output_type": "execute_result"
    }
   ],
   "source": [
    "# Merge together the articles for each region with regions populations\n",
    "total_articles_per_pop_reg = pd.merge(article_counts_region,regions, \n",
    "                                          how=\"inner\",left_index=True ,right_on=\"Geography\")\n",
    "# Create a new column that is the number of articles divided by the normalized population\n",
    "total_articles_per_pop_reg[\"articles_per_population_mil\"] = total_articles_per_pop_reg[\"article_quality\"]/\\\n",
    "                                                        total_articles_per_pop_reg[\"Population (millions)\"]\n",
    "# Select desired columns and sort values in descending order\n",
    "total_articles_per_pop_reg = total_articles_per_pop_reg[[\"Geography\",\n",
    "                                        \"articles_per_population_mil\"]].sort_values(ascending=False, \n",
    "                                        by =\"articles_per_population_mil\")\n",
    "# Set column names\n",
    "total_articles_per_pop_reg.columns = [\"country\",\"articles_per_population_mil\"]\n",
    "# Display\n",
    "total_articles_per_pop_reg"
   ]
  },
  {
   "cell_type": "markdown",
   "metadata": {},
   "source": [
    "Geographic regions by high quality coverage: \n",
    "- Rank ordered list of geographic regions (in descending order) by high quality articles per capita.\n"
   ]
  },
  {
   "cell_type": "code",
   "execution_count": 52,
   "metadata": {},
   "outputs": [
    {
     "data": {
      "text/plain": [
       "region\n",
       "CARIBBEAN           8\n",
       "CENTRAL AMERICA    10\n",
       "CENTRAL ASIA        3\n",
       "EAST ASIA          16\n",
       "EASTERN AFRICA     15\n",
       "Name: article_quality, dtype: int64"
      ]
     },
     "execution_count": 52,
     "metadata": {},
     "output_type": "execute_result"
    }
   ],
   "source": [
    "# Aggregate counts together by region\n",
    "article_counts_region_good = only_quality_articles.groupby(\"region\")['article_quality'].count()\n",
    "# Display\n",
    "article_counts_region_good.head()"
   ]
  },
  {
   "cell_type": "code",
   "execution_count": 54,
   "metadata": {},
   "outputs": [
    {
     "data": {
      "text/plain": [
       "region\n",
       "CARIBBEAN           8\n",
       "CENTRAL AMERICA    10\n",
       "CENTRAL ASIA        3\n",
       "EAST ASIA          16\n",
       "EASTERN AFRICA     15\n",
       "EASTERN EUROPE     38\n",
       "MIDDLE AFRICA       5\n",
       "NORTHERN AFRICA     7\n",
       "NORTHERN EUROPE     8\n",
       "OCEANIA             2\n",
       "SOUTH AMERICA      12\n",
       "SOUTH ASIA         23\n",
       "SOUTHEAST ASIA     24\n",
       "SOUTHERN AFRICA     4\n",
       "SOUTHERN EUROPE    46\n",
       "WESTERN AFRICA     13\n",
       "WESTERN ASIA       28\n",
       "WESTERN EUROPE     22\n",
       "Name: article_quality, dtype: int64"
      ]
     },
     "execution_count": 54,
     "metadata": {},
     "output_type": "execute_result"
    }
   ],
   "source": [
    "article_counts_region_good"
   ]
  },
  {
   "cell_type": "code",
   "execution_count": 53,
   "metadata": {},
   "outputs": [
    {
     "data": {
      "text/html": [
       "<div>\n",
       "<style scoped>\n",
       "    .dataframe tbody tr th:only-of-type {\n",
       "        vertical-align: middle;\n",
       "    }\n",
       "\n",
       "    .dataframe tbody tr th {\n",
       "        vertical-align: top;\n",
       "    }\n",
       "\n",
       "    .dataframe thead th {\n",
       "        text-align: right;\n",
       "    }\n",
       "</style>\n",
       "<table border=\"1\" class=\"dataframe\">\n",
       "  <thead>\n",
       "    <tr style=\"text-align: right;\">\n",
       "      <th></th>\n",
       "      <th>country</th>\n",
       "      <th>articles_per_population_mil</th>\n",
       "    </tr>\n",
       "  </thead>\n",
       "  <tbody>\n",
       "    <tr>\n",
       "      <td>199</td>\n",
       "      <td>SOUTHERN EUROPE</td>\n",
       "      <td>5.788079</td>\n",
       "    </tr>\n",
       "    <tr>\n",
       "      <td>77</td>\n",
       "      <td>CARIBBEAN</td>\n",
       "      <td>4.568182</td>\n",
       "    </tr>\n",
       "    <tr>\n",
       "      <td>178</td>\n",
       "      <td>WESTERN EUROPE</td>\n",
       "      <td>3.543147</td>\n",
       "    </tr>\n",
       "    <tr>\n",
       "      <td>188</td>\n",
       "      <td>EASTERN EUROPE</td>\n",
       "      <td>2.526132</td>\n",
       "    </tr>\n",
       "    <tr>\n",
       "      <td>167</td>\n",
       "      <td>NORTHERN EUROPE</td>\n",
       "      <td>2.429907</td>\n",
       "    </tr>\n",
       "    <tr>\n",
       "      <td>110</td>\n",
       "      <td>WESTERN ASIA</td>\n",
       "      <td>2.326531</td>\n",
       "    </tr>\n",
       "    <tr>\n",
       "      <td>215</td>\n",
       "      <td>OCEANIA</td>\n",
       "      <td>1.954545</td>\n",
       "    </tr>\n",
       "    <tr>\n",
       "      <td>58</td>\n",
       "      <td>SOUTHERN AFRICA</td>\n",
       "      <td>1.695652</td>\n",
       "    </tr>\n",
       "    <tr>\n",
       "      <td>27</td>\n",
       "      <td>EASTERN AFRICA</td>\n",
       "      <td>1.365751</td>\n",
       "    </tr>\n",
       "    <tr>\n",
       "      <td>95</td>\n",
       "      <td>SOUTH AMERICA</td>\n",
       "      <td>1.327189</td>\n",
       "    </tr>\n",
       "    <tr>\n",
       "      <td>129</td>\n",
       "      <td>CENTRAL ASIA</td>\n",
       "      <td>1.320513</td>\n",
       "    </tr>\n",
       "    <tr>\n",
       "      <td>10</td>\n",
       "      <td>WESTERN AFRICA</td>\n",
       "      <td>1.316279</td>\n",
       "    </tr>\n",
       "    <tr>\n",
       "      <td>68</td>\n",
       "      <td>CENTRAL AMERICA</td>\n",
       "      <td>1.084270</td>\n",
       "    </tr>\n",
       "    <tr>\n",
       "      <td>48</td>\n",
       "      <td>MIDDLE AFRICA</td>\n",
       "      <td>1.035714</td>\n",
       "    </tr>\n",
       "    <tr>\n",
       "      <td>2</td>\n",
       "      <td>NORTHERN AFRICA</td>\n",
       "      <td>0.904382</td>\n",
       "    </tr>\n",
       "    <tr>\n",
       "      <td>145</td>\n",
       "      <td>SOUTHEAST ASIA</td>\n",
       "      <td>0.606509</td>\n",
       "    </tr>\n",
       "    <tr>\n",
       "      <td>135</td>\n",
       "      <td>SOUTH ASIA</td>\n",
       "      <td>0.320717</td>\n",
       "    </tr>\n",
       "    <tr>\n",
       "      <td>157</td>\n",
       "      <td>EAST ASIA</td>\n",
       "      <td>0.146356</td>\n",
       "    </tr>\n",
       "    <tr>\n",
       "      <td>64</td>\n",
       "      <td>NORTHERN AMERICA</td>\n",
       "      <td>0.000000</td>\n",
       "    </tr>\n",
       "  </tbody>\n",
       "</table>\n",
       "</div>"
      ],
      "text/plain": [
       "              country  articles_per_population_mil\n",
       "199   SOUTHERN EUROPE                     5.788079\n",
       "77          CARIBBEAN                     4.568182\n",
       "178    WESTERN EUROPE                     3.543147\n",
       "188    EASTERN EUROPE                     2.526132\n",
       "167   NORTHERN EUROPE                     2.429907\n",
       "110      WESTERN ASIA                     2.326531\n",
       "215           OCEANIA                     1.954545\n",
       "58    SOUTHERN AFRICA                     1.695652\n",
       "27     EASTERN AFRICA                     1.365751\n",
       "95      SOUTH AMERICA                     1.327189\n",
       "129      CENTRAL ASIA                     1.320513\n",
       "10     WESTERN AFRICA                     1.316279\n",
       "68    CENTRAL AMERICA                     1.084270\n",
       "48      MIDDLE AFRICA                     1.035714\n",
       "2     NORTHERN AFRICA                     0.904382\n",
       "145    SOUTHEAST ASIA                     0.606509\n",
       "135        SOUTH ASIA                     0.320717\n",
       "157         EAST ASIA                     0.146356\n",
       "64   NORTHERN AMERICA                     0.000000"
      ]
     },
     "execution_count": 53,
     "metadata": {},
     "output_type": "execute_result"
    }
   ],
   "source": [
    "# Merge together the articles for each region with regions populations\n",
    "total_articles_per_pop_reg_good = pd.merge(article_counts_region_good,regions, \n",
    "                                          how=\"inner\",left_index=True ,right_on=\"Geography\")\n",
    "# Create a new column that is the number of articles divided by the normalized population\n",
    "total_articles_per_pop_reg_good[\"articles_per_population_mil\"] = total_articles_per_pop_reg_good[\"article_quality\"]/\\\n",
    "                                                        total_articles_per_pop_reg_good[\"Population (millions)\"]\n",
    "# Select desired columns and sort values in descending order\n",
    "total_articles_per_pop_reg_good = total_articles_per_pop_reg_good[[\"Geography\",\n",
    "                                        \"articles_per_population_mil\"]].sort_values(ascending=False, \n",
    "                                        by =\"articles_per_population_mil\")\n",
    "# Set column names\n",
    "total_articles_per_pop_reg_good.columns = [\"country\",\"articles_per_population_mil\"]\n",
    "total_articles_per_pop_reg"
   ]
  },
  {
   "cell_type": "code",
   "execution_count": null,
   "metadata": {},
   "outputs": [],
   "source": []
  }
 ],
 "metadata": {
  "kernelspec": {
   "display_name": "Python 3",
   "language": "python",
   "name": "python3"
  },
  "language_info": {
   "codemirror_mode": {
    "name": "ipython",
    "version": 3
   },
   "file_extension": ".py",
   "mimetype": "text/x-python",
   "name": "python",
   "nbconvert_exporter": "python",
   "pygments_lexer": "ipython3",
   "version": "3.7.4"
  }
 },
 "nbformat": 4,
 "nbformat_minor": 2
}
